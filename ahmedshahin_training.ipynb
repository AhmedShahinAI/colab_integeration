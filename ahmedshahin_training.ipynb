{
  "nbformat": 4,
  "nbformat_minor": 0,
  "metadata": {
    "colab": {
      "private_outputs": true,
      "provenance": [],
      "authorship_tag": "ABX9TyPqXOroks99tKevqh5S9YKv",
      "include_colab_link": true
    },
    "kernelspec": {
      "name": "python3",
      "display_name": "Python 3"
    },
    "language_info": {
      "name": "python"
    }
  },
  "cells": [
    {
      "cell_type": "markdown",
      "metadata": {
        "id": "view-in-github",
        "colab_type": "text"
      },
      "source": [
        "<a href=\"https://colab.research.google.com/github/AhmedShahinAI/colab_integeration/blob/main/ahmedshahin_training.ipynb\" target=\"_parent\"><img src=\"https://colab.research.google.com/assets/colab-badge.svg\" alt=\"Open In Colab\"/></a>"
      ]
    },
    {
      "cell_type": "markdown",
      "source": [
        "### How to define an integer variable in python"
      ],
      "metadata": {
        "id": "xOOfjnQGX0vH"
      }
    },
    {
      "cell_type": "markdown",
      "source": [
        "**x=5**\n",
        "\n",
        "\n",
        "*   integer value\n",
        "*   float value\n",
        "*   String value\n",
        "\n",
        "\n",
        "⏰\n",
        "\n"
      ],
      "metadata": {
        "id": "31YO7VOWX9Hb"
      }
    },
    {
      "cell_type": "code",
      "execution_count": null,
      "metadata": {
        "id": "nhWAPaxfWt-v"
      },
      "outputs": [],
      "source": [
        "x=5\n",
        "print(x)"
      ]
    }
  ]
}